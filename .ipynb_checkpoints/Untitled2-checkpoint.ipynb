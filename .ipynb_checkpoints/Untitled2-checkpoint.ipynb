{
 "cells": [
  {
   "cell_type": "markdown",
   "metadata": {},
   "source": [
    "# Bank Customer Churn Prediction\n",
    "Dataset source: https://www.kaggle.com/shrutimechlearn/churn-modelling"
   ]
  },
  {
   "cell_type": "markdown",
   "metadata": {},
   "source": [
    "## Machine Learning Model Building"
   ]
  },
  {
   "cell_type": "markdown",
   "metadata": {},
   "source": [
    "**The purpose of this machine learning building is to find the best model for customer churn prediction. It will help bank to retain more customer**\n",
    "\n",
    "We will do some experiments with two types of data. First data is clean data but haven't been scaled. Second data is already scaled. We will treat that data the same way. \n",
    "\n",
    "Steps in building effective machine learning models:\n",
    "> Spliting data into 90% train data 10% test data & 80% train data 20% test data\n",
    "\n",
    "> Fit data into machine learning models such as Logistic Regression, Random Forest, KNN\n",
    "\n",
    "> Model optimization with hyperparamater tuning using GridSearchCV\n",
    "\n",
    "> Evaluating model focusing on Recall (+)\n"
   ]
  },
  {
   "cell_type": "markdown",
   "metadata": {},
   "source": [
    "# Data Set Preparation"
   ]
  },
  {
   "cell_type": "markdown",
   "metadata": {},
   "source": [
    "**Import Libraries**"
   ]
  },
  {
   "cell_type": "code",
   "execution_count": 1,
   "metadata": {},
   "outputs": [
    {
     "name": "stderr",
     "output_type": "stream",
     "text": [
      "/Users/shabrinaazaloa/opt/anaconda3/lib/python3.7/site-packages/statsmodels/tools/_testing.py:19: FutureWarning: pandas.util.testing is deprecated. Use the functions in the public API at pandas.testing instead.\n",
      "  import pandas.util.testing as tm\n"
     ]
    }
   ],
   "source": [
    "import pandas as pd\n",
    "import numpy as np\n",
    "import matplotlib.pyplot as plt\n",
    "import seaborn as sns\n",
    "%matplotlib inline\n",
    "import warnings\n",
    "warnings.filterwarnings(\"ignore\")\n",
    "from sklearn.linear_model import LogisticRegression\n",
    "from sklearn.ensemble import RandomForestClassifier\n",
    "from sklearn.neighbors import KNeighborsClassifier\n",
    "from sklearn.metrics import confusion_matrix\n",
    "from sklearn.metrics import classification_report\n",
    "from sklearn.metrics import recall_score , accuracy_score\n",
    "from sklearn.model_selection import train_test_split\n",
    "from sklearn.model_selection import KFold , cross_val_score\n",
    "from imblearn.over_sampling import SMOTE \n",
    "from sklearn.model_selection import RandomizedSearchCV , GridSearchCV\n",
    "from scipy.stats import randint\n",
    "from scipy import stats"
   ]
  },
  {
   "cell_type": "markdown",
   "metadata": {},
   "source": [
    "**Read the dataset**"
   ]
  },
  {
   "cell_type": "code",
   "execution_count": 2,
   "metadata": {},
   "outputs": [],
   "source": [
    "df = pd.read_csv('BankChurn_Clean.csv')\n",
    "df_scaled = pd.read_csv('BankChurn_Clean_Scale.csv')"
   ]
  },
  {
   "cell_type": "markdown",
   "metadata": {},
   "source": [
    "**Splitting Train Data and Test Data**"
   ]
  },
  {
   "cell_type": "code",
   "execution_count": 3,
   "metadata": {},
   "outputs": [],
   "source": [
    "x1 = df.drop(['Exited'], axis=1)\n",
    "y1 = df['Exited']\n",
    "x2 = df_scaled.drop(['Exited'], axis=1)\n",
    "y2 = df_scaled['Exited']"
   ]
  },
  {
   "cell_type": "markdown",
   "metadata": {},
   "source": [
    "80% Train Data & 20% Test Data"
   ]
  },
  {
   "cell_type": "code",
   "execution_count": 4,
   "metadata": {
    "scrolled": true
   },
   "outputs": [],
   "source": [
    "x1_train_80, x1_test_80, y1_train_80, y1_test_80 = train_test_split(x1, y1, test_size=0.20, shuffle=False)\n",
    "x2_train_80, x2_test_80, y2_train_80, y2_test_80  = train_test_split(x2, y2, test_size=0.20, shuffle=False)"
   ]
  },
  {
   "cell_type": "markdown",
   "metadata": {},
   "source": [
    "90% Train Data & 10% Test Data"
   ]
  },
  {
   "cell_type": "code",
   "execution_count": 5,
   "metadata": {},
   "outputs": [],
   "source": [
    "x1_train_90, x1_test_90, y1_train_90, y1_test_90 = train_test_split(x1, y1, test_size=0.10, shuffle=False)\n",
    "x2_train_90, x2_test_90, y2_train_90, y2_test_90  = train_test_split(x2, y2, test_size=0.10, shuffle=False)"
   ]
  },
  {
   "cell_type": "markdown",
   "metadata": {},
   "source": [
    "# Machine Learning Modeling"
   ]
  },
  {
   "cell_type": "markdown",
   "metadata": {},
   "source": [
    "## Logistic Regression"
   ]
  },
  {
   "cell_type": "code",
   "execution_count": 6,
   "metadata": {},
   "outputs": [
    {
     "data": {
      "text/plain": [
       "LogisticRegression()"
      ]
     },
     "execution_count": 6,
     "metadata": {},
     "output_type": "execute_result"
    }
   ],
   "source": [
    "model1_LR = LogisticRegression()\n",
    "model2_LR = LogisticRegression()\n",
    "model3_LR = LogisticRegression()\n",
    "model4_LR = LogisticRegression()\n",
    "model1_LR.fit(x1_train_80, y1_train_80.ravel())\n",
    "model2_LR.fit(x2_train_80, y2_train_80.ravel())\n",
    "model3_LR.fit(x1_train_90, y1_train_90.ravel())\n",
    "model4_LR.fit(x2_train_90, y2_train_90.ravel())"
   ]
  },
  {
   "cell_type": "code",
   "execution_count": 7,
   "metadata": {},
   "outputs": [],
   "source": [
    "y1_pred_80 = model1_LR.predict(x1_test_80)\n",
    "y2_pred_80 = model2_LR.predict(x2_test_80)\n",
    "y1_pred_90 = model3_LR.predict(x1_test_90)\n",
    "y2_pred_90 = model4_LR.predict(x2_test_90)"
   ]
  },
  {
   "cell_type": "code",
   "execution_count": 8,
   "metadata": {},
   "outputs": [],
   "source": [
    "R1_LR = recall_score(y1_test_80, y1_pred_80)\n",
    "R2_LR = recall_score(y2_test_80, y2_pred_80)\n",
    "R3_LR = recall_score(y1_test_90, y1_pred_90)\n",
    "R4_LR = recall_score(y2_test_90, y2_pred_90)\n",
    "A1_LR = model1_LR.score(x1_train_80, y1_train_80)\n",
    "A2_LR = model2_LR.score(x2_train_80, y2_train_80)\n",
    "A3_LR = model3_LR.score(x1_train_90, y1_train_90)\n",
    "A4_LR = model4_LR.score(x2_train_90, y2_train_90)\n",
    "A1_LR_2 = model1_LR.score(x1_test_80, y1_test_80)\n",
    "A2_LR_2 = model2_LR.score(x2_test_80, y2_test_80)\n",
    "A3_LR_2 = model3_LR.score(x1_test_90, y1_test_90)\n",
    "A4_LR_2 = model4_LR.score(x2_test_90, y2_test_90)"
   ]
  },
  {
   "cell_type": "code",
   "execution_count": 9,
   "metadata": {},
   "outputs": [
    {
     "data": {
      "text/html": [
       "<div>\n",
       "<style scoped>\n",
       "    .dataframe tbody tr th:only-of-type {\n",
       "        vertical-align: middle;\n",
       "    }\n",
       "\n",
       "    .dataframe tbody tr th {\n",
       "        vertical-align: top;\n",
       "    }\n",
       "\n",
       "    .dataframe thead th {\n",
       "        text-align: right;\n",
       "    }\n",
       "</style>\n",
       "<table border=\"1\" class=\"dataframe\">\n",
       "  <thead>\n",
       "    <tr style=\"text-align: right;\">\n",
       "      <th></th>\n",
       "      <th>Model</th>\n",
       "      <th>Recall</th>\n",
       "      <th>Train Score</th>\n",
       "      <th>Test Score</th>\n",
       "    </tr>\n",
       "  </thead>\n",
       "  <tbody>\n",
       "    <tr>\n",
       "      <th>0</th>\n",
       "      <td>LR 80</td>\n",
       "      <td>0.058974</td>\n",
       "      <td>0.788875</td>\n",
       "      <td>0.795</td>\n",
       "    </tr>\n",
       "    <tr>\n",
       "      <th>1</th>\n",
       "      <td>LR scaled 80</td>\n",
       "      <td>0.220513</td>\n",
       "      <td>0.811250</td>\n",
       "      <td>0.808</td>\n",
       "    </tr>\n",
       "    <tr>\n",
       "      <th>2</th>\n",
       "      <td>LR 90</td>\n",
       "      <td>0.033520</td>\n",
       "      <td>0.788778</td>\n",
       "      <td>0.802</td>\n",
       "    </tr>\n",
       "    <tr>\n",
       "      <th>3</th>\n",
       "      <td>LR scaled 90</td>\n",
       "      <td>0.217877</td>\n",
       "      <td>0.809778</td>\n",
       "      <td>0.815</td>\n",
       "    </tr>\n",
       "  </tbody>\n",
       "</table>\n",
       "</div>"
      ],
      "text/plain": [
       "          Model    Recall  Train Score  Test Score\n",
       "0         LR 80  0.058974     0.788875       0.795\n",
       "1  LR scaled 80  0.220513     0.811250       0.808\n",
       "2         LR 90  0.033520     0.788778       0.802\n",
       "3  LR scaled 90  0.217877     0.809778       0.815"
      ]
     },
     "execution_count": 9,
     "metadata": {},
     "output_type": "execute_result"
    }
   ],
   "source": [
    "result_1 = {'Model':['LR 80', 'LR scaled 80','LR 90','LR scaled 90'],\n",
    "               'Recall':[R1_LR,R2_LR,R3_LR,R4_LR],\n",
    "               'Train Score':[A1_LR,A2_LR,A3_LR,A4_LR],\n",
    "            'Test Score':[A1_LR_2,A2_LR_2,A3_LR_2,A4_LR_2]\n",
    "              }\n",
    "result_LR = pd.DataFrame(result_1)\n",
    "result_LR"
   ]
  },
  {
   "cell_type": "markdown",
   "metadata": {},
   "source": [
    "## Random Forest"
   ]
  },
  {
   "cell_type": "code",
   "execution_count": 10,
   "metadata": {},
   "outputs": [
    {
     "data": {
      "text/plain": [
       "RandomForestClassifier()"
      ]
     },
     "execution_count": 10,
     "metadata": {},
     "output_type": "execute_result"
    }
   ],
   "source": [
    "model1_RF = RandomForestClassifier()\n",
    "model2_RF = RandomForestClassifier()\n",
    "model3_RF = RandomForestClassifier()\n",
    "model4_RF = RandomForestClassifier()\n",
    "model1_RF.fit(x1_train_80, y1_train_80.ravel())\n",
    "model2_RF.fit(x2_train_80, y2_train_80.ravel())\n",
    "model3_RF.fit(x1_train_90, y1_train_90.ravel())\n",
    "model4_RF.fit(x2_train_90, y2_train_90.ravel())"
   ]
  },
  {
   "cell_type": "code",
   "execution_count": 11,
   "metadata": {},
   "outputs": [],
   "source": [
    "y1_pred_80 = model1_RF.predict(x1_test_80)\n",
    "y2_pred_80 = model2_RF.predict(x2_test_80)\n",
    "y1_pred_90 = model3_RF.predict(x1_test_90)\n",
    "y2_pred_90 = model4_RF.predict(x2_test_90)"
   ]
  },
  {
   "cell_type": "code",
   "execution_count": 12,
   "metadata": {},
   "outputs": [],
   "source": [
    "R1_RF = recall_score(y1_test_80, y1_pred_80)\n",
    "R2_RF = recall_score(y2_test_80, y2_pred_80)\n",
    "R3_RF = recall_score(y1_test_90, y1_pred_90)\n",
    "R4_RF = recall_score(y2_test_90, y2_pred_90)\n",
    "A1_RF = model1_RF.score(x1_train_80, y1_train_80)\n",
    "A2_RF = model2_RF.score(x2_train_80, y2_train_80)\n",
    "A3_RF = model3_RF.score(x1_train_90, y1_train_90)\n",
    "A4_RF = model4_RF.score(x2_train_90, y2_train_90)\n",
    "A1_RF_2 = model1_RF.score(x1_test_80, y1_test_80)\n",
    "A2_RF_2 = model2_RF.score(x2_test_80, y2_test_80)\n",
    "A3_RF_2 = model3_RF.score(x1_test_90, y1_test_90)\n",
    "A4_RF_2 = model4_RF.score(x2_test_90, y2_test_90)"
   ]
  },
  {
   "cell_type": "code",
   "execution_count": 13,
   "metadata": {
    "scrolled": true
   },
   "outputs": [
    {
     "data": {
      "text/html": [
       "<div>\n",
       "<style scoped>\n",
       "    .dataframe tbody tr th:only-of-type {\n",
       "        vertical-align: middle;\n",
       "    }\n",
       "\n",
       "    .dataframe tbody tr th {\n",
       "        vertical-align: top;\n",
       "    }\n",
       "\n",
       "    .dataframe thead th {\n",
       "        text-align: right;\n",
       "    }\n",
       "</style>\n",
       "<table border=\"1\" class=\"dataframe\">\n",
       "  <thead>\n",
       "    <tr style=\"text-align: right;\">\n",
       "      <th></th>\n",
       "      <th>Model</th>\n",
       "      <th>Recall</th>\n",
       "      <th>Train Score</th>\n",
       "      <th>Test Score</th>\n",
       "    </tr>\n",
       "  </thead>\n",
       "  <tbody>\n",
       "    <tr>\n",
       "      <th>0</th>\n",
       "      <td>RF 80</td>\n",
       "      <td>0.435897</td>\n",
       "      <td>1.000000</td>\n",
       "      <td>0.8610</td>\n",
       "    </tr>\n",
       "    <tr>\n",
       "      <th>1</th>\n",
       "      <td>RF scaled 80</td>\n",
       "      <td>0.458974</td>\n",
       "      <td>1.000000</td>\n",
       "      <td>0.8655</td>\n",
       "    </tr>\n",
       "    <tr>\n",
       "      <th>2</th>\n",
       "      <td>RF 90</td>\n",
       "      <td>0.463687</td>\n",
       "      <td>1.000000</td>\n",
       "      <td>0.8650</td>\n",
       "    </tr>\n",
       "    <tr>\n",
       "      <th>3</th>\n",
       "      <td>RF scaled 90</td>\n",
       "      <td>0.441341</td>\n",
       "      <td>0.999889</td>\n",
       "      <td>0.8670</td>\n",
       "    </tr>\n",
       "  </tbody>\n",
       "</table>\n",
       "</div>"
      ],
      "text/plain": [
       "          Model    Recall  Train Score  Test Score\n",
       "0         RF 80  0.435897     1.000000      0.8610\n",
       "1  RF scaled 80  0.458974     1.000000      0.8655\n",
       "2         RF 90  0.463687     1.000000      0.8650\n",
       "3  RF scaled 90  0.441341     0.999889      0.8670"
      ]
     },
     "execution_count": 13,
     "metadata": {},
     "output_type": "execute_result"
    }
   ],
   "source": [
    "result_2 = {'Model':['RF 80', 'RF scaled 80','RF 90','RF scaled 90'],\n",
    "            'Recall':[R1_RF,R2_RF,R3_RF,R4_RF],\n",
    "            'Train Score':[A1_RF,A2_RF,A3_RF,A4_RF],\n",
    "            'Test Score':[A1_RF_2,A2_RF_2,A3_RF_2,A4_RF_2]\n",
    "              }\n",
    "result_RF = pd.DataFrame(result_2)\n",
    "result_RF"
   ]
  },
  {
   "cell_type": "markdown",
   "metadata": {},
   "source": [
    "## KNN"
   ]
  },
  {
   "cell_type": "code",
   "execution_count": 14,
   "metadata": {},
   "outputs": [
    {
     "data": {
      "text/plain": [
       "KNeighborsClassifier()"
      ]
     },
     "execution_count": 14,
     "metadata": {},
     "output_type": "execute_result"
    }
   ],
   "source": [
    "model1_KNN = KNeighborsClassifier()\n",
    "model2_KNN = KNeighborsClassifier()\n",
    "model3_KNN = KNeighborsClassifier()\n",
    "model4_KNN = KNeighborsClassifier()\n",
    "model1_KNN.fit(x1_train_80, y1_train_80.ravel())\n",
    "model2_KNN.fit(x2_train_80, y2_train_80.ravel())\n",
    "model3_KNN.fit(x1_train_90, y1_train_90.ravel())\n",
    "model4_KNN.fit(x2_train_90, y2_train_90.ravel())"
   ]
  },
  {
   "cell_type": "code",
   "execution_count": 15,
   "metadata": {},
   "outputs": [],
   "source": [
    "y1_pred_80 = model1_KNN.predict(x1_test_80)\n",
    "y2_pred_80 = model2_KNN.predict(x2_test_80)\n",
    "y1_pred_90 = model3_KNN.predict(x1_test_90)\n",
    "y2_pred_90 = model4_KNN.predict(x2_test_90)"
   ]
  },
  {
   "cell_type": "code",
   "execution_count": 17,
   "metadata": {},
   "outputs": [],
   "source": [
    "R1_KNN = recall_score(y1_test_80, y1_pred_80)\n",
    "R2_KNN = recall_score(y2_test_80, y2_pred_80)\n",
    "R3_KNN = recall_score(y1_test_90, y1_pred_90)\n",
    "R4_KNN = recall_score(y2_test_90, y2_pred_90)\n",
    "A1_KNN = model1_KNN.score(x1_train_80, y1_train_80)\n",
    "A2_KNN = model2_KNN.score(x2_train_80, y2_train_80)\n",
    "A3_KNN = model3_KNN.score(x1_train_90, y1_train_90)\n",
    "A4_KNN = model4_KNN.score(x2_train_90, y2_train_90)\n",
    "A1_KNN_2 = model1_KNN.score(x1_test_80, y1_test_80)\n",
    "A2_KNN_2 = model2_KNN.score(x2_test_80, y2_test_80)\n",
    "A3_KNN_2 = model3_KNN.score(x1_test_90, y1_test_90)\n",
    "A4_KNN_2 = model4_KNN.score(x2_test_90, y2_test_90)"
   ]
  },
  {
   "cell_type": "code",
   "execution_count": 18,
   "metadata": {
    "scrolled": true
   },
   "outputs": [
    {
     "data": {
      "text/html": [
       "<div>\n",
       "<style scoped>\n",
       "    .dataframe tbody tr th:only-of-type {\n",
       "        vertical-align: middle;\n",
       "    }\n",
       "\n",
       "    .dataframe tbody tr th {\n",
       "        vertical-align: top;\n",
       "    }\n",
       "\n",
       "    .dataframe thead th {\n",
       "        text-align: right;\n",
       "    }\n",
       "</style>\n",
       "<table border=\"1\" class=\"dataframe\">\n",
       "  <thead>\n",
       "    <tr style=\"text-align: right;\">\n",
       "      <th></th>\n",
       "      <th>Model</th>\n",
       "      <th>Recall</th>\n",
       "      <th>Train Score</th>\n",
       "      <th>Test Score</th>\n",
       "    </tr>\n",
       "  </thead>\n",
       "  <tbody>\n",
       "    <tr>\n",
       "      <th>0</th>\n",
       "      <td>KNN 80</td>\n",
       "      <td>0.087179</td>\n",
       "      <td>0.815250</td>\n",
       "      <td>0.7675</td>\n",
       "    </tr>\n",
       "    <tr>\n",
       "      <th>1</th>\n",
       "      <td>KNN scaled 80</td>\n",
       "      <td>0.389744</td>\n",
       "      <td>0.881000</td>\n",
       "      <td>0.8400</td>\n",
       "    </tr>\n",
       "    <tr>\n",
       "      <th>2</th>\n",
       "      <td>KNN 90</td>\n",
       "      <td>0.083799</td>\n",
       "      <td>0.815333</td>\n",
       "      <td>0.7820</td>\n",
       "    </tr>\n",
       "    <tr>\n",
       "      <th>3</th>\n",
       "      <td>KNN scaled 90</td>\n",
       "      <td>0.441341</td>\n",
       "      <td>0.880444</td>\n",
       "      <td>0.8460</td>\n",
       "    </tr>\n",
       "  </tbody>\n",
       "</table>\n",
       "</div>"
      ],
      "text/plain": [
       "           Model    Recall  Train Score  Test Score\n",
       "0         KNN 80  0.087179     0.815250      0.7675\n",
       "1  KNN scaled 80  0.389744     0.881000      0.8400\n",
       "2         KNN 90  0.083799     0.815333      0.7820\n",
       "3  KNN scaled 90  0.441341     0.880444      0.8460"
      ]
     },
     "execution_count": 18,
     "metadata": {},
     "output_type": "execute_result"
    }
   ],
   "source": [
    "result_3 = {'Model':['KNN 80', 'KNN scaled 80','KNN 90','KNN scaled 90'],\n",
    "               'Recall':[R1_KNN,R2_KNN,R3_KNN,R4_KNN],\n",
    "               'Train Score':[A1_KNN,A2_KNN,A3_KNN,A4_KNN],\n",
    "            'Test Score':[A1_KNN_2,A2_KNN_2,A3_KNN_2,A4_KNN_2]\n",
    "              }\n",
    "result_KNN = pd.DataFrame(result_3)\n",
    "result_KNN"
   ]
  },
  {
   "cell_type": "markdown",
   "metadata": {},
   "source": [
    "# Modeling after SMOTE"
   ]
  },
  {
   "cell_type": "markdown",
   "metadata": {},
   "source": [
    "We will use SMOTE for handle imbalanced data. SMOTE is a more sophisticated technique than oversampling and undersampling. Oversampling does not result in significant improvement of predictive accuracy, because it causes overfitting. However, undersampling throws away a lot of information."
   ]
  },
  {
   "cell_type": "code",
   "execution_count": 19,
   "metadata": {},
   "outputs": [],
   "source": [
    "sm = SMOTE(random_state = 2) \n",
    "X1_train_80, Y1_train_80 = sm.fit_sample(x1_train_80, y1_train_80.ravel())\n",
    "X1_train_90, Y1_train_90 = sm.fit_sample(x1_train_90, y1_train_90.ravel()) \n",
    "X2_train_80, Y2_train_80 = sm.fit_sample(x2_train_80, y2_train_80.ravel()) \n",
    "X2_train_90, Y2_train_90 = sm.fit_sample(x2_train_90, y2_train_90.ravel()) "
   ]
  },
  {
   "cell_type": "markdown",
   "metadata": {},
   "source": [
    "## Logistic Regression"
   ]
  },
  {
   "cell_type": "code",
   "execution_count": 20,
   "metadata": {},
   "outputs": [
    {
     "data": {
      "text/plain": [
       "LogisticRegression()"
      ]
     },
     "execution_count": 20,
     "metadata": {},
     "output_type": "execute_result"
    }
   ],
   "source": [
    "model1_LR_2 = LogisticRegression()\n",
    "model2_LR_2 = LogisticRegression()\n",
    "model3_LR_2 = LogisticRegression()\n",
    "model4_LR_2 = LogisticRegression()\n",
    "model1_LR_2.fit(X1_train_80, Y1_train_80.ravel())\n",
    "model2_LR_2.fit(X2_train_80, Y2_train_80.ravel())\n",
    "model3_LR_2.fit(X1_train_90, Y1_train_90.ravel())\n",
    "model4_LR_2.fit(X2_train_90, Y2_train_90.ravel())"
   ]
  },
  {
   "cell_type": "code",
   "execution_count": 21,
   "metadata": {},
   "outputs": [],
   "source": [
    "y1_pred_80 = model1_LR_2.predict(x1_test_80)\n",
    "y2_pred_80 = model2_LR_2.predict(x2_test_80)\n",
    "y1_pred_90 = model3_LR_2.predict(x1_test_90)\n",
    "y2_pred_90 = model4_LR_2.predict(x2_test_90)"
   ]
  },
  {
   "cell_type": "code",
   "execution_count": 22,
   "metadata": {},
   "outputs": [],
   "source": [
    "R1_LR_2 = recall_score(y1_test_80, y1_pred_80)\n",
    "R2_LR_2 = recall_score(y2_test_80, y2_pred_80)\n",
    "R3_LR_2 = recall_score(y1_test_90, y1_pred_90)\n",
    "R4_LR_2 = recall_score(y2_test_90, y2_pred_90)\n",
    "A1_LR_2 = model1_LR_2.score(X1_train_80, Y1_train_80)\n",
    "A2_LR_2 = model2_LR_2.score(X2_train_80, Y2_train_80)\n",
    "A3_LR_2 = model3_LR_2.score(X1_train_90, Y1_train_90)\n",
    "A4_LR_2 = model4_LR_2.score(X2_train_90, Y2_train_90)\n",
    "A1_LR_2_2 = model1_LR_2.score(x1_test_80, y1_test_80)\n",
    "A2_LR_2_2 = model2_LR_2.score(x2_test_80, y2_test_80)\n",
    "A3_LR_2_2 = model3_LR_2.score(x1_test_90, y1_test_90)\n",
    "A4_LR_2_2 = model4_LR_2.score(x2_test_90, y2_test_90)"
   ]
  },
  {
   "cell_type": "code",
   "execution_count": 23,
   "metadata": {},
   "outputs": [
    {
     "data": {
      "text/html": [
       "<div>\n",
       "<style scoped>\n",
       "    .dataframe tbody tr th:only-of-type {\n",
       "        vertical-align: middle;\n",
       "    }\n",
       "\n",
       "    .dataframe tbody tr th {\n",
       "        vertical-align: top;\n",
       "    }\n",
       "\n",
       "    .dataframe thead th {\n",
       "        text-align: right;\n",
       "    }\n",
       "</style>\n",
       "<table border=\"1\" class=\"dataframe\">\n",
       "  <thead>\n",
       "    <tr style=\"text-align: right;\">\n",
       "      <th></th>\n",
       "      <th>Model</th>\n",
       "      <th>Recall</th>\n",
       "      <th>Train Score</th>\n",
       "      <th>Test Score</th>\n",
       "    </tr>\n",
       "  </thead>\n",
       "  <tbody>\n",
       "    <tr>\n",
       "      <th>0</th>\n",
       "      <td>LR 80 2</td>\n",
       "      <td>0.610256</td>\n",
       "      <td>0.688808</td>\n",
       "      <td>0.669</td>\n",
       "    </tr>\n",
       "    <tr>\n",
       "      <th>1</th>\n",
       "      <td>LR scaled 80 2</td>\n",
       "      <td>0.628205</td>\n",
       "      <td>0.724067</td>\n",
       "      <td>0.699</td>\n",
       "    </tr>\n",
       "    <tr>\n",
       "      <th>2</th>\n",
       "      <td>LR 90 2</td>\n",
       "      <td>0.659218</td>\n",
       "      <td>0.668440</td>\n",
       "      <td>0.654</td>\n",
       "    </tr>\n",
       "    <tr>\n",
       "      <th>3</th>\n",
       "      <td>LR scaled 90 2</td>\n",
       "      <td>0.631285</td>\n",
       "      <td>0.719126</td>\n",
       "      <td>0.690</td>\n",
       "    </tr>\n",
       "  </tbody>\n",
       "</table>\n",
       "</div>"
      ],
      "text/plain": [
       "            Model    Recall  Train Score  Test Score\n",
       "0         LR 80 2  0.610256     0.688808       0.669\n",
       "1  LR scaled 80 2  0.628205     0.724067       0.699\n",
       "2         LR 90 2  0.659218     0.668440       0.654\n",
       "3  LR scaled 90 2  0.631285     0.719126       0.690"
      ]
     },
     "execution_count": 23,
     "metadata": {},
     "output_type": "execute_result"
    }
   ],
   "source": [
    "result_5 = {'Model':['LR 80 2', 'LR scaled 80 2','LR 90 2','LR scaled 90 2'],\n",
    "               'Recall':[R1_LR_2,R2_LR_2,R3_LR_2,R4_LR_2],\n",
    "               'Train Score':[A1_LR_2,A2_LR_2,A3_LR_2,A4_LR_2],\n",
    "            'Test Score':[A1_LR_2_2,A2_LR_2_2,A3_LR_2_2,A4_LR_2_2]\n",
    "            \n",
    "              }\n",
    "result_LR_2 = pd.DataFrame(result_5)\n",
    "result_LR_2"
   ]
  },
  {
   "cell_type": "markdown",
   "metadata": {},
   "source": [
    "## Random Forest"
   ]
  },
  {
   "cell_type": "code",
   "execution_count": 24,
   "metadata": {},
   "outputs": [
    {
     "data": {
      "text/plain": [
       "RandomForestClassifier()"
      ]
     },
     "execution_count": 24,
     "metadata": {},
     "output_type": "execute_result"
    }
   ],
   "source": [
    "model1_RF_2 = RandomForestClassifier()\n",
    "model2_RF_2 = RandomForestClassifier()\n",
    "model3_RF_2 = RandomForestClassifier()\n",
    "model4_RF_2 = RandomForestClassifier()\n",
    "model1_RF_2.fit(X1_train_80, Y1_train_80.ravel())\n",
    "model2_RF_2.fit(X2_train_80, Y2_train_80.ravel())\n",
    "model3_RF_2.fit(X1_train_90, Y1_train_90.ravel())\n",
    "model4_RF_2.fit(X2_train_90, Y2_train_90.ravel())"
   ]
  },
  {
   "cell_type": "code",
   "execution_count": 25,
   "metadata": {},
   "outputs": [],
   "source": [
    "y1_pred_80 = model1_RF_2.predict(x1_test_80)\n",
    "y2_pred_80 = model2_RF_2.predict(x2_test_80)\n",
    "y1_pred_90 = model3_RF_2.predict(x1_test_90)\n",
    "y2_pred_90 = model4_RF_2.predict(x2_test_90)"
   ]
  },
  {
   "cell_type": "code",
   "execution_count": 26,
   "metadata": {},
   "outputs": [],
   "source": [
    "R1_RF_2 = recall_score(y1_test_80, y1_pred_80)\n",
    "R2_RF_2 = recall_score(y2_test_80, y2_pred_80)\n",
    "R3_RF_2 = recall_score(y1_test_90, y1_pred_90)\n",
    "R4_RF_2 = recall_score(y2_test_90, y2_pred_90)\n",
    "A1_RF_2 = model1_RF_2.score(X1_train_80, Y1_train_80)\n",
    "A2_RF_2 = model2_RF_2.score(X2_train_80, Y2_train_80)\n",
    "A3_RF_2 = model3_RF_2.score(X1_train_90, Y1_train_90)\n",
    "A4_RF_2 = model4_RF_2.score(X2_train_90, Y2_train_90)\n",
    "A1_RF_2_2 = model1_RF_2.score(x1_test_80, y1_test_80)\n",
    "A2_RF_2_2 = model2_RF_2.score(x2_test_80, y2_test_80)\n",
    "A3_RF_2_2 = model3_RF_2.score(x1_test_90, y1_test_90)\n",
    "A4_RF_2_2 = model4_RF_2.score(x2_test_90, y2_test_90)"
   ]
  },
  {
   "cell_type": "code",
   "execution_count": 27,
   "metadata": {},
   "outputs": [
    {
     "data": {
      "text/html": [
       "<div>\n",
       "<style scoped>\n",
       "    .dataframe tbody tr th:only-of-type {\n",
       "        vertical-align: middle;\n",
       "    }\n",
       "\n",
       "    .dataframe tbody tr th {\n",
       "        vertical-align: top;\n",
       "    }\n",
       "\n",
       "    .dataframe thead th {\n",
       "        text-align: right;\n",
       "    }\n",
       "</style>\n",
       "<table border=\"1\" class=\"dataframe\">\n",
       "  <thead>\n",
       "    <tr style=\"text-align: right;\">\n",
       "      <th></th>\n",
       "      <th>Model</th>\n",
       "      <th>Recall</th>\n",
       "      <th>Train Score</th>\n",
       "      <th>Test Score</th>\n",
       "    </tr>\n",
       "  </thead>\n",
       "  <tbody>\n",
       "    <tr>\n",
       "      <th>0</th>\n",
       "      <td>RF 80 2</td>\n",
       "      <td>0.543590</td>\n",
       "      <td>1.00000</td>\n",
       "      <td>0.8285</td>\n",
       "    </tr>\n",
       "    <tr>\n",
       "      <th>1</th>\n",
       "      <td>RF scaled 80 2</td>\n",
       "      <td>0.592308</td>\n",
       "      <td>1.00000</td>\n",
       "      <td>0.8425</td>\n",
       "    </tr>\n",
       "    <tr>\n",
       "      <th>2</th>\n",
       "      <td>RF 90 2</td>\n",
       "      <td>0.569832</td>\n",
       "      <td>0.99993</td>\n",
       "      <td>0.8250</td>\n",
       "    </tr>\n",
       "    <tr>\n",
       "      <th>3</th>\n",
       "      <td>RF scaled 90 2</td>\n",
       "      <td>0.553073</td>\n",
       "      <td>1.00000</td>\n",
       "      <td>0.8290</td>\n",
       "    </tr>\n",
       "  </tbody>\n",
       "</table>\n",
       "</div>"
      ],
      "text/plain": [
       "            Model    Recall  Train Score  Test Score\n",
       "0         RF 80 2  0.543590      1.00000      0.8285\n",
       "1  RF scaled 80 2  0.592308      1.00000      0.8425\n",
       "2         RF 90 2  0.569832      0.99993      0.8250\n",
       "3  RF scaled 90 2  0.553073      1.00000      0.8290"
      ]
     },
     "execution_count": 27,
     "metadata": {},
     "output_type": "execute_result"
    }
   ],
   "source": [
    "result_6 = {'Model':['RF 80 2', 'RF scaled 80 2','RF 90 2','RF scaled 90 2'],\n",
    "               'Recall':[R1_RF_2,R2_RF_2,R3_RF_2,R4_RF_2],\n",
    "               'Train Score':[A1_RF_2,A2_RF_2,A3_RF_2,A4_RF_2],\n",
    "            'Test Score':[A1_RF_2_2,A2_RF_2_2,A3_RF_2_2,A4_RF_2_2]\n",
    "            \n",
    "              }\n",
    "result_RF_2 = pd.DataFrame(result_6)\n",
    "result_RF_2"
   ]
  },
  {
   "cell_type": "markdown",
   "metadata": {},
   "source": [
    "## KNN"
   ]
  },
  {
   "cell_type": "code",
   "execution_count": 28,
   "metadata": {},
   "outputs": [
    {
     "data": {
      "text/plain": [
       "KNeighborsClassifier()"
      ]
     },
     "execution_count": 28,
     "metadata": {},
     "output_type": "execute_result"
    }
   ],
   "source": [
    "model1_KNN_2 = KNeighborsClassifier()\n",
    "model2_KNN_2 = KNeighborsClassifier()\n",
    "model3_KNN_2 = KNeighborsClassifier()\n",
    "model4_KNN_2 = KNeighborsClassifier()\n",
    "model1_KNN_2.fit(X1_train_80, Y1_train_80.ravel())\n",
    "model2_KNN_2.fit(X2_train_80, Y2_train_80.ravel())\n",
    "model3_KNN_2.fit(X1_train_90, Y1_train_90.ravel())\n",
    "model4_KNN_2.fit(X2_train_90, Y2_train_90.ravel())"
   ]
  },
  {
   "cell_type": "code",
   "execution_count": 29,
   "metadata": {},
   "outputs": [],
   "source": [
    "y1_pred_80 = model1_KNN_2.predict(x1_test_80)\n",
    "y2_pred_80 = model2_KNN_2.predict(x2_test_80)\n",
    "y1_pred_90 = model3_KNN_2.predict(x1_test_90)\n",
    "y2_pred_90 = model4_KNN_2.predict(x2_test_90)"
   ]
  },
  {
   "cell_type": "code",
   "execution_count": 30,
   "metadata": {},
   "outputs": [],
   "source": [
    "R1_KNN_2 = recall_score(y1_test_80, y1_pred_80)\n",
    "R2_KNN_2 = recall_score(y2_test_80, y2_pred_80)\n",
    "R3_KNN_2 = recall_score(y1_test_90, y1_pred_90)\n",
    "R4_KNN_2 = recall_score(y2_test_90, y2_pred_90)\n",
    "A1_KNN_2 = model1_KNN_2.score(X1_train_80, Y1_train_80)\n",
    "A2_KNN_2 = model2_KNN_2.score(X2_train_80, Y2_train_80)\n",
    "A3_KNN_2 = model3_KNN_2.score(X1_train_90, Y1_train_90)\n",
    "A4_KNN_2 = model4_KNN_2.score(X2_train_90, Y2_train_90)\n",
    "A1_KNN_2_2 = model1_KNN_2.score(x1_test_80, y1_test_80)\n",
    "A2_KNN_2_2 = model2_KNN_2.score(x2_test_80, y2_test_80)\n",
    "A3_KNN_2_2 = model3_KNN_2.score(x1_test_90, y1_test_90)\n",
    "A4_KNN_2_2 = model4_KNN_2.score(x2_test_90, y2_test_90)"
   ]
  },
  {
   "cell_type": "code",
   "execution_count": 31,
   "metadata": {},
   "outputs": [
    {
     "data": {
      "text/html": [
       "<div>\n",
       "<style scoped>\n",
       "    .dataframe tbody tr th:only-of-type {\n",
       "        vertical-align: middle;\n",
       "    }\n",
       "\n",
       "    .dataframe tbody tr th {\n",
       "        vertical-align: top;\n",
       "    }\n",
       "\n",
       "    .dataframe thead th {\n",
       "        text-align: right;\n",
       "    }\n",
       "</style>\n",
       "<table border=\"1\" class=\"dataframe\">\n",
       "  <thead>\n",
       "    <tr style=\"text-align: right;\">\n",
       "      <th></th>\n",
       "      <th>Model</th>\n",
       "      <th>Recall</th>\n",
       "      <th>Train Score</th>\n",
       "      <th>Test Score</th>\n",
       "    </tr>\n",
       "  </thead>\n",
       "  <tbody>\n",
       "    <tr>\n",
       "      <th>0</th>\n",
       "      <td>KNN 80 2</td>\n",
       "      <td>0.410256</td>\n",
       "      <td>0.792382</td>\n",
       "      <td>0.5765</td>\n",
       "    </tr>\n",
       "    <tr>\n",
       "      <th>1</th>\n",
       "      <td>KNN scaled 80 2</td>\n",
       "      <td>0.633333</td>\n",
       "      <td>0.903353</td>\n",
       "      <td>0.7545</td>\n",
       "    </tr>\n",
       "    <tr>\n",
       "      <th>2</th>\n",
       "      <td>KNN 90 2</td>\n",
       "      <td>0.418994</td>\n",
       "      <td>0.800826</td>\n",
       "      <td>0.5830</td>\n",
       "    </tr>\n",
       "    <tr>\n",
       "      <th>3</th>\n",
       "      <td>KNN scaled 90 2</td>\n",
       "      <td>0.675978</td>\n",
       "      <td>0.903178</td>\n",
       "      <td>0.7560</td>\n",
       "    </tr>\n",
       "  </tbody>\n",
       "</table>\n",
       "</div>"
      ],
      "text/plain": [
       "             Model    Recall  Train Score  Test Score\n",
       "0         KNN 80 2  0.410256     0.792382      0.5765\n",
       "1  KNN scaled 80 2  0.633333     0.903353      0.7545\n",
       "2         KNN 90 2  0.418994     0.800826      0.5830\n",
       "3  KNN scaled 90 2  0.675978     0.903178      0.7560"
      ]
     },
     "execution_count": 31,
     "metadata": {},
     "output_type": "execute_result"
    }
   ],
   "source": [
    "result_7 = {'Model':['KNN 80 2', 'KNN scaled 80 2','KNN 90 2','KNN scaled 90 2'],\n",
    "               'Recall':[R1_KNN_2,R2_KNN_2,R3_KNN_2,R4_KNN_2],\n",
    "               'Train Score':[A1_KNN_2,A2_KNN_2,A3_KNN_2,A4_KNN_2],\n",
    "              'Test Score':[A1_KNN_2_2,A2_KNN_2_2,A3_KNN_2_2,A4_KNN_2_2]\n",
    "              }\n",
    "result_KNN_2 = pd.DataFrame(result_7)\n",
    "result_KNN_2"
   ]
  },
  {
   "cell_type": "markdown",
   "metadata": {},
   "source": [
    "## FINAL RESULT"
   ]
  },
  {
   "cell_type": "code",
   "execution_count": 32,
   "metadata": {},
   "outputs": [
    {
     "data": {
      "text/html": [
       "<div>\n",
       "<style scoped>\n",
       "    .dataframe tbody tr th:only-of-type {\n",
       "        vertical-align: middle;\n",
       "    }\n",
       "\n",
       "    .dataframe tbody tr th {\n",
       "        vertical-align: top;\n",
       "    }\n",
       "\n",
       "    .dataframe thead th {\n",
       "        text-align: right;\n",
       "    }\n",
       "</style>\n",
       "<table border=\"1\" class=\"dataframe\">\n",
       "  <thead>\n",
       "    <tr style=\"text-align: right;\">\n",
       "      <th></th>\n",
       "      <th>Model</th>\n",
       "      <th>Recall</th>\n",
       "      <th>Train Score</th>\n",
       "      <th>Test Score</th>\n",
       "    </tr>\n",
       "  </thead>\n",
       "  <tbody>\n",
       "    <tr>\n",
       "      <th>3</th>\n",
       "      <td>KNN scaled 90 2</td>\n",
       "      <td>0.675978</td>\n",
       "      <td>0.903178</td>\n",
       "      <td>0.7560</td>\n",
       "    </tr>\n",
       "    <tr>\n",
       "      <th>2</th>\n",
       "      <td>LR 90 2</td>\n",
       "      <td>0.659218</td>\n",
       "      <td>0.668440</td>\n",
       "      <td>0.6540</td>\n",
       "    </tr>\n",
       "    <tr>\n",
       "      <th>1</th>\n",
       "      <td>KNN scaled 80 2</td>\n",
       "      <td>0.633333</td>\n",
       "      <td>0.903353</td>\n",
       "      <td>0.7545</td>\n",
       "    </tr>\n",
       "    <tr>\n",
       "      <th>3</th>\n",
       "      <td>LR scaled 90 2</td>\n",
       "      <td>0.631285</td>\n",
       "      <td>0.719126</td>\n",
       "      <td>0.6900</td>\n",
       "    </tr>\n",
       "    <tr>\n",
       "      <th>1</th>\n",
       "      <td>LR scaled 80 2</td>\n",
       "      <td>0.628205</td>\n",
       "      <td>0.724067</td>\n",
       "      <td>0.6990</td>\n",
       "    </tr>\n",
       "    <tr>\n",
       "      <th>0</th>\n",
       "      <td>LR 80 2</td>\n",
       "      <td>0.610256</td>\n",
       "      <td>0.688808</td>\n",
       "      <td>0.6690</td>\n",
       "    </tr>\n",
       "    <tr>\n",
       "      <th>1</th>\n",
       "      <td>RF scaled 80 2</td>\n",
       "      <td>0.592308</td>\n",
       "      <td>1.000000</td>\n",
       "      <td>0.8425</td>\n",
       "    </tr>\n",
       "    <tr>\n",
       "      <th>2</th>\n",
       "      <td>RF 90 2</td>\n",
       "      <td>0.569832</td>\n",
       "      <td>0.999930</td>\n",
       "      <td>0.8250</td>\n",
       "    </tr>\n",
       "    <tr>\n",
       "      <th>3</th>\n",
       "      <td>RF scaled 90 2</td>\n",
       "      <td>0.553073</td>\n",
       "      <td>1.000000</td>\n",
       "      <td>0.8290</td>\n",
       "    </tr>\n",
       "    <tr>\n",
       "      <th>0</th>\n",
       "      <td>RF 80 2</td>\n",
       "      <td>0.543590</td>\n",
       "      <td>1.000000</td>\n",
       "      <td>0.8285</td>\n",
       "    </tr>\n",
       "    <tr>\n",
       "      <th>2</th>\n",
       "      <td>RF 90</td>\n",
       "      <td>0.463687</td>\n",
       "      <td>1.000000</td>\n",
       "      <td>0.8650</td>\n",
       "    </tr>\n",
       "    <tr>\n",
       "      <th>1</th>\n",
       "      <td>RF scaled 80</td>\n",
       "      <td>0.458974</td>\n",
       "      <td>1.000000</td>\n",
       "      <td>0.8655</td>\n",
       "    </tr>\n",
       "    <tr>\n",
       "      <th>3</th>\n",
       "      <td>KNN scaled 90</td>\n",
       "      <td>0.441341</td>\n",
       "      <td>0.880444</td>\n",
       "      <td>0.8460</td>\n",
       "    </tr>\n",
       "    <tr>\n",
       "      <th>3</th>\n",
       "      <td>RF scaled 90</td>\n",
       "      <td>0.441341</td>\n",
       "      <td>0.999889</td>\n",
       "      <td>0.8670</td>\n",
       "    </tr>\n",
       "    <tr>\n",
       "      <th>0</th>\n",
       "      <td>RF 80</td>\n",
       "      <td>0.435897</td>\n",
       "      <td>1.000000</td>\n",
       "      <td>0.8610</td>\n",
       "    </tr>\n",
       "    <tr>\n",
       "      <th>2</th>\n",
       "      <td>KNN 90 2</td>\n",
       "      <td>0.418994</td>\n",
       "      <td>0.800826</td>\n",
       "      <td>0.5830</td>\n",
       "    </tr>\n",
       "    <tr>\n",
       "      <th>0</th>\n",
       "      <td>KNN 80 2</td>\n",
       "      <td>0.410256</td>\n",
       "      <td>0.792382</td>\n",
       "      <td>0.5765</td>\n",
       "    </tr>\n",
       "    <tr>\n",
       "      <th>1</th>\n",
       "      <td>KNN scaled 80</td>\n",
       "      <td>0.389744</td>\n",
       "      <td>0.881000</td>\n",
       "      <td>0.8400</td>\n",
       "    </tr>\n",
       "    <tr>\n",
       "      <th>1</th>\n",
       "      <td>LR scaled 80</td>\n",
       "      <td>0.220513</td>\n",
       "      <td>0.811250</td>\n",
       "      <td>0.8080</td>\n",
       "    </tr>\n",
       "    <tr>\n",
       "      <th>3</th>\n",
       "      <td>LR scaled 90</td>\n",
       "      <td>0.217877</td>\n",
       "      <td>0.809778</td>\n",
       "      <td>0.8150</td>\n",
       "    </tr>\n",
       "    <tr>\n",
       "      <th>0</th>\n",
       "      <td>KNN 80</td>\n",
       "      <td>0.087179</td>\n",
       "      <td>0.815250</td>\n",
       "      <td>0.7675</td>\n",
       "    </tr>\n",
       "    <tr>\n",
       "      <th>2</th>\n",
       "      <td>KNN 90</td>\n",
       "      <td>0.083799</td>\n",
       "      <td>0.815333</td>\n",
       "      <td>0.7820</td>\n",
       "    </tr>\n",
       "    <tr>\n",
       "      <th>0</th>\n",
       "      <td>LR 80</td>\n",
       "      <td>0.058974</td>\n",
       "      <td>0.788875</td>\n",
       "      <td>0.7950</td>\n",
       "    </tr>\n",
       "    <tr>\n",
       "      <th>2</th>\n",
       "      <td>LR 90</td>\n",
       "      <td>0.033520</td>\n",
       "      <td>0.788778</td>\n",
       "      <td>0.8020</td>\n",
       "    </tr>\n",
       "  </tbody>\n",
       "</table>\n",
       "</div>"
      ],
      "text/plain": [
       "             Model    Recall  Train Score  Test Score\n",
       "3  KNN scaled 90 2  0.675978     0.903178      0.7560\n",
       "2          LR 90 2  0.659218     0.668440      0.6540\n",
       "1  KNN scaled 80 2  0.633333     0.903353      0.7545\n",
       "3   LR scaled 90 2  0.631285     0.719126      0.6900\n",
       "1   LR scaled 80 2  0.628205     0.724067      0.6990\n",
       "0          LR 80 2  0.610256     0.688808      0.6690\n",
       "1   RF scaled 80 2  0.592308     1.000000      0.8425\n",
       "2          RF 90 2  0.569832     0.999930      0.8250\n",
       "3   RF scaled 90 2  0.553073     1.000000      0.8290\n",
       "0          RF 80 2  0.543590     1.000000      0.8285\n",
       "2            RF 90  0.463687     1.000000      0.8650\n",
       "1     RF scaled 80  0.458974     1.000000      0.8655\n",
       "3    KNN scaled 90  0.441341     0.880444      0.8460\n",
       "3     RF scaled 90  0.441341     0.999889      0.8670\n",
       "0            RF 80  0.435897     1.000000      0.8610\n",
       "2         KNN 90 2  0.418994     0.800826      0.5830\n",
       "0         KNN 80 2  0.410256     0.792382      0.5765\n",
       "1    KNN scaled 80  0.389744     0.881000      0.8400\n",
       "1     LR scaled 80  0.220513     0.811250      0.8080\n",
       "3     LR scaled 90  0.217877     0.809778      0.8150\n",
       "0           KNN 80  0.087179     0.815250      0.7675\n",
       "2           KNN 90  0.083799     0.815333      0.7820\n",
       "0            LR 80  0.058974     0.788875      0.7950\n",
       "2            LR 90  0.033520     0.788778      0.8020"
      ]
     },
     "execution_count": 32,
     "metadata": {},
     "output_type": "execute_result"
    }
   ],
   "source": [
    "frames = [result_LR, result_RF, result_KNN, result_LR_2, result_RF_2, result_KNN_2]\n",
    "final_2 = pd.concat(frames)\n",
    "final_2.sort_values(by='Recall', ascending=False)"
   ]
  },
  {
   "cell_type": "markdown",
   "metadata": {},
   "source": [
    "**From the table above We decided to do Hyperparameter Tuning 2 top model. The recall almost same. I will use RandomizedSearchCV and GridSearchCV on it.**"
   ]
  },
  {
   "cell_type": "markdown",
   "metadata": {},
   "source": [
    "Before that, let's check is there any underfitting or overfitting 2 top models using KFolds"
   ]
  },
  {
   "cell_type": "code",
   "execution_count": 33,
   "metadata": {},
   "outputs": [
    {
     "name": "stdout",
     "output_type": "stream",
     "text": [
      "[0.84954514 0.84604619 0.84884535 0.86564031 0.87114846 0.86484594\n",
      " 0.83893557 0.8592437  0.86554622 0.86204482]\n",
      "10 Fold cross validation average accuracy: 0.857\n"
     ]
    }
   ],
   "source": [
    "kfold = KFold(n_splits =10 , shuffle=True, random_state=0)\n",
    "clf = KNeighborsClassifier()\n",
    "scoring = 'accuracy'\n",
    "results = cross_val_score(clf, X2_train_90, Y2_train_90, cv= kfold, scoring=scoring)\n",
    "print(results)\n",
    "print(\"10 Fold cross validation average accuracy: %.3f\" %(results.mean()))"
   ]
  },
  {
   "cell_type": "code",
   "execution_count": 34,
   "metadata": {},
   "outputs": [
    {
     "name": "stdout",
     "output_type": "stream",
     "text": [
      "[0.65430371 0.65710287 0.67879636 0.68369489 0.69747899 0.68557423\n",
      " 0.68347339 0.67507003 0.65336134 0.67086835]\n",
      "10 Fold cross validation average accuracy: 0.674\n"
     ]
    }
   ],
   "source": [
    "kfold = KFold(n_splits =10 , shuffle=True, random_state=0)\n",
    "clf = LogisticRegression()\n",
    "scoring = 'accuracy'\n",
    "results = cross_val_score(clf, X1_train_90, Y1_train_90, cv= kfold, scoring=scoring)\n",
    "print(results)\n",
    "print(\"10 Fold cross validation average accuracy: %.3f\" %(results.mean()))"
   ]
  },
  {
   "cell_type": "markdown",
   "metadata": {},
   "source": [
    "**Both models are not Overfitting or Underfitting Models**"
   ]
  },
  {
   "cell_type": "markdown",
   "metadata": {},
   "source": [
    "## Hyperparameter Tuning"
   ]
  },
  {
   "cell_type": "markdown",
   "metadata": {},
   "source": [
    "Based on model's recall. Top 2 are KNeighborsClassifier with 90 scaled train data SMOTE and Logistic Regression with 90 train data after SMOTE. So, We will do hyperparameter tuning on those models.We will use GridSearchCV and RandomizedSearchCv to find the best parameters\n"
   ]
  },
  {
   "cell_type": "code",
   "execution_count": 36,
   "metadata": {},
   "outputs": [],
   "source": [
    "param_KNN = {\n",
    "     \"leaf_size\" : list(range(1,50)),\n",
    "     \"n_neighbors\" : list(range(1,30)),\n",
    "     \"p\":[1,2]\n",
    "     }\n",
    "\n",
    "param_LR = {\n",
    "    \"penalty\" : ['l1', 'l2', 'elasticnet', 'none'],\n",
    "    \"solver\" : ['newton-cg', 'lbfgs', 'liblinear', 'sag', 'saga'],\n",
    "    \"max_iter\" : [1, 10, 100, 1000, 10000]\n",
    "    }"
   ]
  },
  {
   "cell_type": "markdown",
   "metadata": {},
   "source": [
    "## MODEL 1"
   ]
  },
  {
   "cell_type": "markdown",
   "metadata": {},
   "source": [
    "**GridSearchCV**"
   ]
  },
  {
   "cell_type": "code",
   "execution_count": 37,
   "metadata": {},
   "outputs": [],
   "source": [
    "model_KNN = KNeighborsClassifier()\n",
    "model_KNN_GS = GridSearchCV(\n",
    "    model_KNN , param_KNN, cv = 5, error_score=0.0\n",
    ")\n"
   ]
  },
  {
   "cell_type": "code",
   "execution_count": 38,
   "metadata": {},
   "outputs": [
    {
     "data": {
      "text/plain": [
       "{'leaf_size': 1, 'n_neighbors': 1, 'p': 2}"
      ]
     },
     "execution_count": 38,
     "metadata": {},
     "output_type": "execute_result"
    }
   ],
   "source": [
    "model_KNN_GS.fit(X2_train_90, Y2_train_90)\n",
    "model_KNN_GS.best_params_"
   ]
  },
  {
   "cell_type": "code",
   "execution_count": 39,
   "metadata": {},
   "outputs": [],
   "source": [
    "model1_GS = KNeighborsClassifier(p=2,n_neighbors=1,leaf_size=1)\n",
    "model1_GS.fit(X2_train_90, Y2_train_90)\n",
    "y1_pred_90 = model1_GS.predict(x2_test_90)\n",
    "R1 = recall_score(y2_test_90, y1_pred_90)\n",
    "TrainScore1 = model1_GS.score(X2_train_90, Y2_train_90)\n",
    "TestScore1 = model1_GS.score(x2_test_90, y2_test_90)\n"
   ]
  },
  {
   "cell_type": "markdown",
   "metadata": {},
   "source": [
    "**RandomizedSearchCV**"
   ]
  },
  {
   "cell_type": "code",
   "execution_count": 40,
   "metadata": {},
   "outputs": [],
   "source": [
    "model_KNN = KNeighborsClassifier()\n",
    "model_KNN_RS = RandomizedSearchCV(\n",
    "    estimator = model_KNN, param_distributions= param_KNN, cv = 5, error_score=0.0\n",
    ")\n"
   ]
  },
  {
   "cell_type": "code",
   "execution_count": 41,
   "metadata": {},
   "outputs": [
    {
     "data": {
      "text/plain": [
       "{'p': 2, 'n_neighbors': 1, 'leaf_size': 37}"
      ]
     },
     "execution_count": 41,
     "metadata": {},
     "output_type": "execute_result"
    }
   ],
   "source": [
    "model_KNN_RS.fit(X2_train_90, Y2_train_90)\n",
    "model_KNN_RS.best_params_"
   ]
  },
  {
   "cell_type": "code",
   "execution_count": 57,
   "metadata": {},
   "outputs": [],
   "source": [
    "model1_RS = KNeighborsClassifier(p=2,n_neighbors=1,leaf_size=37)\n",
    "model1_RS.fit(X2_train_90, Y2_train_90)\n",
    "y1_pred_90 = model1_RS.predict(x2_test_90)\n",
    "R2 = recall_score(y2_test_90, y1_pred_90)\n",
    "TrainScore2 = model1_RS.score(X2_train_90, Y2_train_90)\n",
    "TestScore2 = model1_RS.score(x2_test_90, y2_test_90)\n"
   ]
  },
  {
   "cell_type": "code",
   "execution_count": 59,
   "metadata": {
    "scrolled": true
   },
   "outputs": [
    {
     "data": {
      "text/html": [
       "<div>\n",
       "<style scoped>\n",
       "    .dataframe tbody tr th:only-of-type {\n",
       "        vertical-align: middle;\n",
       "    }\n",
       "\n",
       "    .dataframe tbody tr th {\n",
       "        vertical-align: top;\n",
       "    }\n",
       "\n",
       "    .dataframe thead th {\n",
       "        text-align: right;\n",
       "    }\n",
       "</style>\n",
       "<table border=\"1\" class=\"dataframe\">\n",
       "  <thead>\n",
       "    <tr style=\"text-align: right;\">\n",
       "      <th></th>\n",
       "      <th>Model</th>\n",
       "      <th>Recall</th>\n",
       "      <th>Train Score</th>\n",
       "      <th>Test Score</th>\n",
       "    </tr>\n",
       "  </thead>\n",
       "  <tbody>\n",
       "    <tr>\n",
       "      <th>0</th>\n",
       "      <td>Model 1</td>\n",
       "      <td>0.675978</td>\n",
       "      <td>0.903178</td>\n",
       "      <td>0.756</td>\n",
       "    </tr>\n",
       "    <tr>\n",
       "      <th>1</th>\n",
       "      <td>Model 1 GridSearchCV</td>\n",
       "      <td>0.513966</td>\n",
       "      <td>1.000000</td>\n",
       "      <td>0.772</td>\n",
       "    </tr>\n",
       "    <tr>\n",
       "      <th>2</th>\n",
       "      <td>Model 1 RandomizedSearchCV</td>\n",
       "      <td>0.513966</td>\n",
       "      <td>1.000000</td>\n",
       "      <td>0.772</td>\n",
       "    </tr>\n",
       "  </tbody>\n",
       "</table>\n",
       "</div>"
      ],
      "text/plain": [
       "                        Model    Recall  Train Score  Test Score\n",
       "0                     Model 1  0.675978     0.903178       0.756\n",
       "1        Model 1 GridSearchCV  0.513966     1.000000       0.772\n",
       "2  Model 1 RandomizedSearchCV  0.513966     1.000000       0.772"
      ]
     },
     "execution_count": 59,
     "metadata": {},
     "output_type": "execute_result"
    }
   ],
   "source": [
    "HP_1 = {'Model':['Model 1','Model 1 GridSearchCV','Model 1 RandomizedSearchCV'],\n",
    "               'Recall':[R4_KNN_2,R1,R2],\n",
    "               'Train Score':[A4_KNN_2, TrainScore1,TrainScore2],\n",
    "               'Test Score': [A4_KNN_2_2, TestScore1,TestScore2]\n",
    "              }\n",
    "result_HP1 = pd.DataFrame(HP_1)\n",
    "result_HP1"
   ]
  },
  {
   "cell_type": "markdown",
   "metadata": {},
   "source": [
    "## MODEL 2"
   ]
  },
  {
   "cell_type": "markdown",
   "metadata": {},
   "source": [
    "**GridSearchCV**"
   ]
  },
  {
   "cell_type": "code",
   "execution_count": 44,
   "metadata": {},
   "outputs": [],
   "source": [
    "model_LR = LogisticRegression()\n",
    "model_LR_GS = GridSearchCV(\n",
    "    model_LR , param_LR, cv = 5, error_score=0.0\n",
    ")\n"
   ]
  },
  {
   "cell_type": "code",
   "execution_count": 45,
   "metadata": {},
   "outputs": [
    {
     "data": {
      "text/plain": [
       "{'max_iter': 1000, 'penalty': 'none', 'solver': 'newton-cg'}"
      ]
     },
     "execution_count": 45,
     "metadata": {},
     "output_type": "execute_result"
    }
   ],
   "source": [
    "model_LR_GS.fit(X1_train_90, Y1_train_90)\n",
    "model_LR_GS.best_params_"
   ]
  },
  {
   "cell_type": "code",
   "execution_count": 48,
   "metadata": {},
   "outputs": [],
   "source": [
    "model2_LR = LogisticRegression(max_iter=1000, penalty='none', solver='newton-cg')\n",
    "model2_LR.fit(X2_train_90, Y2_train_90)\n",
    "y2_pred_90 = model2_LR.predict(x2_test_90)\n",
    "R3 = recall_score(y2_test_90, y2_pred_90)\n",
    "TrainScore3 = model2_LR.score(X2_train_90, Y2_train_90)\n",
    "TestScore3 = model2_LR.score(x2_test_90, y2_test_90)\n"
   ]
  },
  {
   "cell_type": "markdown",
   "metadata": {},
   "source": [
    "**RandomizedSearchCV**"
   ]
  },
  {
   "cell_type": "code",
   "execution_count": 49,
   "metadata": {},
   "outputs": [],
   "source": [
    "model_LR = LogisticRegression()\n",
    "model_LR_RS = RandomizedSearchCV(\n",
    "    estimator = model_LR, param_distributions= param_LR, cv = 5, error_score=0.0\n",
    ")\n"
   ]
  },
  {
   "cell_type": "code",
   "execution_count": 50,
   "metadata": {},
   "outputs": [
    {
     "data": {
      "text/plain": [
       "{'solver': 'liblinear', 'penalty': 'l2', 'max_iter': 10}"
      ]
     },
     "execution_count": 50,
     "metadata": {},
     "output_type": "execute_result"
    }
   ],
   "source": [
    "model_LR_RS.fit(X1_train_90, Y1_train_90)\n",
    "model_LR_RS.best_params_"
   ]
  },
  {
   "cell_type": "code",
   "execution_count": 55,
   "metadata": {},
   "outputs": [],
   "source": [
    "model2_LR = LogisticRegression(max_iter=10, penalty='l2', solver='liblinear')\n",
    "model2_LR.fit(X2_train_90, Y2_train_90)\n",
    "y1_pred_90 = model2_LR.predict(x2_test_90)\n",
    "R4 = recall_score(y2_test_90, y1_pred_90)\n",
    "TrainScore4 = model2_LR.score(X2_train_90, Y2_train_90)\n",
    "TestScore4 = model2_LR.score(x2_test_90, y2_test_90)\n"
   ]
  },
  {
   "cell_type": "code",
   "execution_count": 56,
   "metadata": {},
   "outputs": [
    {
     "data": {
      "text/html": [
       "<div>\n",
       "<style scoped>\n",
       "    .dataframe tbody tr th:only-of-type {\n",
       "        vertical-align: middle;\n",
       "    }\n",
       "\n",
       "    .dataframe tbody tr th {\n",
       "        vertical-align: top;\n",
       "    }\n",
       "\n",
       "    .dataframe thead th {\n",
       "        text-align: right;\n",
       "    }\n",
       "</style>\n",
       "<table border=\"1\" class=\"dataframe\">\n",
       "  <thead>\n",
       "    <tr style=\"text-align: right;\">\n",
       "      <th></th>\n",
       "      <th>Model</th>\n",
       "      <th>Recall</th>\n",
       "      <th>Train Score</th>\n",
       "      <th>Test Score</th>\n",
       "    </tr>\n",
       "  </thead>\n",
       "  <tbody>\n",
       "    <tr>\n",
       "      <th>0</th>\n",
       "      <td>Model 2</td>\n",
       "      <td>0.659218</td>\n",
       "      <td>0.668440</td>\n",
       "      <td>0.654</td>\n",
       "    </tr>\n",
       "    <tr>\n",
       "      <th>1</th>\n",
       "      <td>Model 2 GridSearchCV</td>\n",
       "      <td>0.631285</td>\n",
       "      <td>0.719126</td>\n",
       "      <td>0.690</td>\n",
       "    </tr>\n",
       "    <tr>\n",
       "      <th>2</th>\n",
       "      <td>Model 2 RandomizedSearchCV</td>\n",
       "      <td>0.631285</td>\n",
       "      <td>0.719336</td>\n",
       "      <td>0.690</td>\n",
       "    </tr>\n",
       "  </tbody>\n",
       "</table>\n",
       "</div>"
      ],
      "text/plain": [
       "                        Model    Recall  Train Score  Test Score\n",
       "0                     Model 2  0.659218     0.668440       0.654\n",
       "1        Model 2 GridSearchCV  0.631285     0.719126       0.690\n",
       "2  Model 2 RandomizedSearchCV  0.631285     0.719336       0.690"
      ]
     },
     "execution_count": 56,
     "metadata": {},
     "output_type": "execute_result"
    }
   ],
   "source": [
    "HP_2 = {'Model':['Model 2','Model 2 GridSearchCV','Model 2 RandomizedSearchCV'],\n",
    "               'Recall':[R3_LR_2,R3,R4],\n",
    "               'Train Score':[A3_LR_2 , TrainScore3,TrainScore4],\n",
    "               'Test Score': [A3_LR_2_2, TestScore3,TestScore4]\n",
    "              }\n",
    "result_HP2 = pd.DataFrame(HP_2)\n",
    "result_HP2"
   ]
  },
  {
   "cell_type": "markdown",
   "metadata": {},
   "source": [
    "Based on GridSearchCV and RandomizedSearchCV, both model's accuracy getting higher. But, the recall become worse."
   ]
  },
  {
   "cell_type": "markdown",
   "metadata": {},
   "source": [
    "# Final Model"
   ]
  },
  {
   "cell_type": "markdown",
   "metadata": {},
   "source": [
    "Based on some experiments above, **KNeighborsClassifier (90% train data 10% test data) with scaled features and after oversampling SMOTE** is the best machine learning model."
   ]
  },
  {
   "cell_type": "code",
   "execution_count": 60,
   "metadata": {},
   "outputs": [],
   "source": [
    "final_model = KNeighborsClassifier()\n",
    "final_model.fit(X2_train_90, Y2_train_90.ravel())\n",
    "y2_pred_90 = final_model.predict(x2_test_90)       "
   ]
  },
  {
   "cell_type": "code",
   "execution_count": 61,
   "metadata": {},
   "outputs": [
    {
     "name": "stdout",
     "output_type": "stream",
     "text": [
      "              precision    recall  f1-score   support\n",
      "\n",
      "           0       0.92      0.77      0.84       821\n",
      "           1       0.39      0.68      0.50       179\n",
      "\n",
      "    accuracy                           0.76      1000\n",
      "   macro avg       0.66      0.72      0.67      1000\n",
      "weighted avg       0.82      0.76      0.78      1000\n",
      "\n"
     ]
    }
   ],
   "source": [
    "print(classification_report(y2_test_90, y2_pred_90))"
   ]
  },
  {
   "cell_type": "code",
   "execution_count": 62,
   "metadata": {
    "scrolled": true
   },
   "outputs": [
    {
     "data": {
      "image/png": "[encoded data removed]",
      "text/plain": [
       "<Figure size 576x360 with 2 Axes>"
      ]
     },
     "metadata": {
      "needs_background": "light"
     },
     "output_type": "display_data"
    }
   ],
   "source": [
    "f, ax = plt.subplots(figsize=(8,5))\n",
    "sns.heatmap(confusion_matrix(y2_test_90, y2_pred_90), annot=True, fmt=\".0f\", ax=ax)\n",
    "plt.xlabel(\"y Prediksi\")\n",
    "plt.ylabel(\"y Aktual\")\n",
    "plt.show()"
   ]
  }
 ],
 "metadata": {
  "kernelspec": {
   "display_name": "Python 3",
   "language": "python",
   "name": "python3"
  },
  "language_info": {
   "codemirror_mode": {
    "name": "ipython",
    "version": 3
   },
   "file_extension": ".py",
   "mimetype": "text/x-python",
   "name": "python",
   "nbconvert_exporter": "python",
   "pygments_lexer": "ipython3",
   "version": "3.7.4"
  }
 },
 "nbformat": 4,
 "nbformat_minor": 2
}
